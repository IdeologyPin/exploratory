{
 "cells": [
  {
   "cell_type": "code",
   "execution_count": 61,
   "metadata": {
    "collapsed": true
   },
   "outputs": [],
   "source": [
    "import pandas as pd"
   ]
  },
  {
   "cell_type": "code",
   "execution_count": 1,
   "metadata": {
    "collapsed": true
   },
   "outputs": [],
   "source": [
    "import pickle\n",
    "gun_control = pickle.load(open(\"gun_control.p\", \"rb\"))"
   ]
  },
  {
   "cell_type": "code",
   "execution_count": 6,
   "metadata": {
    "collapsed": false
   },
   "outputs": [],
   "source": [
    "for art in gun_control['articles']:\n",
    "    art['content']"
   ]
  },
  {
   "cell_type": "code",
   "execution_count": 24,
   "metadata": {
    "collapsed": false
   },
   "outputs": [
    {
     "data": {
      "text/plain": [
       "u\"Questions and answers about Obama's executive plan on guns\""
      ]
     },
     "execution_count": 24,
     "metadata": {},
     "output_type": "execute_result"
    }
   ],
   "source": [
    "gun_control['articles'][0]['title']\n"
   ]
  },
  {
   "cell_type": "code",
   "execution_count": 120,
   "metadata": {
    "collapsed": true
   },
   "outputs": [],
   "source": [
    "from vaderSentiment import vaderSentiment"
   ]
  },
  {
   "cell_type": "markdown",
   "metadata": {},
   "source": [
    "### take articles in the pickle, match with articles"
   ]
  },
  {
   "cell_type": "code",
   "execution_count": 377,
   "metadata": {
    "collapsed": true
   },
   "outputs": [],
   "source": [
    "id_to_title = pd.read_csv(\"id_to_title_mapping.csv\")"
   ]
  },
  {
   "cell_type": "code",
   "execution_count": 378,
   "metadata": {
    "collapsed": false
   },
   "outputs": [],
   "source": [
    "id_to_title = id_to_title[(id_to_title['Unnamed: 2'].isnull() == False) & (id_to_title['title'] != '?')]"
   ]
  },
  {
   "cell_type": "code",
   "execution_count": 379,
   "metadata": {
    "collapsed": false
   },
   "outputs": [],
   "source": [
    "titles = id_to_title['title'].values"
   ]
  },
  {
   "cell_type": "code",
   "execution_count": 227,
   "metadata": {
    "collapsed": true
   },
   "outputs": [],
   "source": [
    "articles = gun_control['articles']\n",
    "article_titles = []\n",
    "for art in articles:\n",
    "    article_titles.append(art['title'].encode(\"ascii\", \"ignore\"))"
   ]
  },
  {
   "cell_type": "code",
   "execution_count": 246,
   "metadata": {
    "collapsed": false,
    "scrolled": true
   },
   "outputs": [],
   "source": [
    "not_included = []\n",
    "title_idx = {}\n",
    "for title in titles:\n",
    "    if title in article_titles:\n",
    "        counter = 0\n",
    "        for art in article_titles:\n",
    "            if art == title:\n",
    "                title_idx[title] = counter\n",
    "            counter+=1\n",
    "        #title_idx[title] = np.where(article_titles == title)\n",
    "    else:\n",
    "        print title, np.where(titles == title)\n",
    "        not_included.append(title)"
   ]
  },
  {
   "cell_type": "code",
   "execution_count": 380,
   "metadata": {
    "collapsed": true
   },
   "outputs": [],
   "source": [
    "from collections import defaultdict\n",
    "idx_to_title = {}\n",
    "for k, v in title_idx.iteritems():\n",
    "    idx_to_title[v] = k"
   ]
  },
  {
   "cell_type": "code",
   "execution_count": 384,
   "metadata": {
    "collapsed": true
   },
   "outputs": [],
   "source": [
    "cluster_idx = {}\n",
    "for title in title_idx:\n",
    "    cluster_idx[title_idx[title]] = id_to_title[id_to_title['title'] == title]['Unnamed: 2'].values.astype(int)"
   ]
  },
  {
   "cell_type": "code",
   "execution_count": 385,
   "metadata": {
    "collapsed": false
   },
   "outputs": [
    {
     "data": {
      "text/plain": [
       "{5: array([0]),\n",
       " 6: array([0]),\n",
       " 7: array([4]),\n",
       " 11: array([0]),\n",
       " 12: array([5]),\n",
       " 13: array([3]),\n",
       " 14: array([3]),\n",
       " 15: array([5]),\n",
       " 16: array([0]),\n",
       " 17: array([0]),\n",
       " 18: array([0]),\n",
       " 20: array([3]),\n",
       " 21: array([3]),\n",
       " 24: array([3]),\n",
       " 25: array([4]),\n",
       " 26: array([1]),\n",
       " 27: array([1, 3]),\n",
       " 28: array([1, 1, 1]),\n",
       " 29: array([0]),\n",
       " 30: array([0]),\n",
       " 36: array([8, 4]),\n",
       " 42: array([4]),\n",
       " 46: array([0])}"
      ]
     },
     "execution_count": 385,
     "metadata": {},
     "output_type": "execute_result"
    }
   ],
   "source": [
    "cluster_idx"
   ]
  },
  {
   "cell_type": "markdown",
   "metadata": {},
   "source": [
    "#### frequency counts\n",
    "- unigrams, bigrams, trigrams"
   ]
  },
  {
   "cell_type": "code",
   "execution_count": 44,
   "metadata": {
    "collapsed": true
   },
   "outputs": [],
   "source": [
    "import nltk\n",
    "from nltk.corpus import stopwords\n",
    "from nltk.stem import WordNetLemmatizer\n",
    "stop = stopwords.words('english')\n",
    "import string\n",
    "\n",
    "def tokenize_doc(doc):\n",
    "    \"\"\" \n",
    "        basic tokenization\n",
    "    \"\"\"\n",
    "    wordnet_lemmatizer = WordNetLemmatizer()\n",
    "    punct = string.punctuation\n",
    "    toks = nltk.word_tokenize(doc)\n",
    "    toks = [wordnet_lemmatizer.lemmatize(tok) for tok in toks if tok not in string.punctuation]\n",
    "    return toks\n",
    "\n",
    "\n",
    "def ngram_count(toks, n):\n",
    "    grams = {}\n",
    "    if (n==1):\n",
    "        #for unigrams take out stop\n",
    "        ngs = [toks for toks in toks if toks not in stop]\n",
    "    elif (n==2):\n",
    "        ngs = nltk.bigrams(toks)\n",
    "    elif (n==3):\n",
    "        ngs = nltk.trigrams(toks)\n",
    "    else:\n",
    "        print \"no \", n, \" only up to n=3\"\n",
    "        return None\n",
    "    fdist = nltk.FreqDist(ngs)\n",
    "    #decide threshold comparing to toks\n",
    "    for k,v in fdist.items():\n",
    "        grams[k] = v\n",
    "    sorted_grams = sorted(grams.items(), key=lambda x: x[1], reverse=True)[0:15]\n",
    "    return sorted_grams"
   ]
  },
  {
   "cell_type": "code",
   "execution_count": 47,
   "metadata": {
    "collapsed": false
   },
   "outputs": [
    {
     "name": "stdout",
     "output_type": "stream",
     "text": [
      "[(u'gun', 21), (u'Obama', 15), (u\"'s\", 11), (u'background', 6), (u'say', 6), (u'check', 6), (u'The', 6), (u'could', 5), (u\"n't\", 5), (u'new', 5), (u'step', 5), (u'license', 5), (u'ha', 5), (u'Congress', 4), (u'action', 4)] \n",
      "\n",
      "[((u'background', u'check'), 6), ((u'in', u'the'), 5), ((u'Obama', u\"'s\"), 5), ((u'of', u'gun'), 4), ((u'Obama', u'is'), 4), ((u'a', u'license'), 4), ((u'up', u'to'), 4), ((u'San', u'Bernardino'), 3), ((u'on', u'gun'), 3), ((u'you', u\"'re\"), 3), ((u'gun', u'death'), 2), ((u'gun', u'sale'), 2), ((u'business', u\"''\"), 2), ((u'gun', u'from'), 2), ((u'or', u'online'), 2)] \n",
      "\n",
      "[((u'at', u'gun', u'show'), 2), ((u'the', u'business', u\"''\"), 2), ((u'There', u\"'s\", u'no'), 2), ((u'to', u'background', u'check'), 2), ((u'without', u'a', u'license'), 2), ((u\"'s\", u'up', u'to'), 2), ((u'you', u\"'re\", u'not'), 2), ((u'business', u\"''\", u'of'), 2), ((u'San', u'Bernardino', u'California'), 2), ((u\"''\", u'of', u'selling'), 2), ((u'in', u'the', u'business'), 2), ((u'clarify', u'who', u'is'), 1), ((u'resistance', u'from', u'gun'), 1), ((u'are', u'sold', u'annually'), 1), ((u'in', u'2013', u'sought'), 1)] \n",
      "\n"
     ]
    }
   ],
   "source": [
    "doc_tok = tokenize_doc(gun_control['articles'][0]['content'])\n",
    "print ngram_count(doc_tok, 1), \"\\n\"\n",
    "print ngram_count(doc_tok, 2), \"\\n\"\n",
    "print ngram_count(doc_tok, 3), \"\\n\""
   ]
  },
  {
   "cell_type": "markdown",
   "metadata": {},
   "source": [
    "#### spacy ngrams"
   ]
  },
  {
   "cell_type": "code",
   "execution_count": 15,
   "metadata": {
    "collapsed": false
   },
   "outputs": [],
   "source": [
    "import textacy\n",
    "from spacy.en import English\n",
    "import textacy_keyterms as keyterms\n",
    "parser = English()"
   ]
  },
  {
   "cell_type": "code",
   "execution_count": 18,
   "metadata": {
    "collapsed": false
   },
   "outputs": [
    {
     "name": "stdout",
     "output_type": "stream",
     "text": [
      "\n"
     ]
    }
   ],
   "source": [
    "import numpy as np"
   ]
  },
  {
   "cell_type": "code",
   "execution_count": 92,
   "metadata": {
    "collapsed": true
   },
   "outputs": [],
   "source": [
    "def textacy_sg_rank(doc):\n",
    "    doc = textacy.TextDoc(doc.strip(), lang = 'en')\n",
    "    ranked_results = keyterms.sgrank(doc)\n",
    "    median = np.median([res[1] for res in ranked_results])\n",
    "    mean = np.mean([res[1] for res in ranked_results])\n",
    "    return ranked_results, median, mean, doc"
   ]
  },
  {
   "cell_type": "code",
   "execution_count": 249,
   "metadata": {
    "collapsed": true
   },
   "outputs": [],
   "source": [
    "def get_article_keyword(text):\n",
    "    \"\"\"\n",
    "        for now pass in article title + content appended together.\n",
    "    \"\"\"\n",
    "    txt_res = textacy_sg_rank(text)\n",
    "    return txt_res[0], txt_res[1], txt_res[2]"
   ]
  },
  {
   "cell_type": "code",
   "execution_count": 281,
   "metadata": {
    "collapsed": true
   },
   "outputs": [],
   "source": [
    "def get_article_text(idx):\n",
    "    return gun_control['articles'][idx]['title'] + \". \" + gun_control['articles'][idx]['content']"
   ]
  },
  {
   "cell_type": "markdown",
   "metadata": {},
   "source": [
    "### For each article we marked, find ngrams"
   ]
  },
  {
   "cell_type": "code",
   "execution_count": 285,
   "metadata": {
    "collapsed": false
   },
   "outputs": [],
   "source": [
    "article_keywords_dict = {}\n",
    "for art in title_idx:\n",
    "    temp_dict = {}\n",
    "    temp_dict['title'] = art\n",
    "    text = get_article_text(title_idx[art])\n",
    "    keywords, median, mean = get_article_keyword(text)\n",
    "    temp_dict['keywords'] = keywords\n",
    "    temp_dict['median'] = median\n",
    "    temp_dict['mean'] = mean\n",
    "    article_keywords_dict[title_idx[art]] = temp_dict  "
   ]
  },
  {
   "cell_type": "code",
   "execution_count": 286,
   "metadata": {
    "collapsed": false
   },
   "outputs": [
    {
     "data": {
      "text/plain": [
       "{5: {'keywords': [(u'President Obama', 0.8309207163630251),\n",
       "   (u'gun', 0.05494364343204969),\n",
       "   (u'requirement', 0.04987999743081177),\n",
       "   (u'violence', 0.034255642774113755),\n",
       "   (u'focus', 0.030000000000000006)],\n",
       "  'mean': 0.20000000000000004,\n",
       "  'median': 0.049879997430811771,\n",
       "  'title': 'TULSA WORLD-CLASSIFIED ONLY'},\n",
       " 6: {'keywords': [(u'President Barack Obama \\u2019s executive',\n",
       "    0.16186022093474708),\n",
       "   (u'licensed dealer', 0.07073005962396912),\n",
       "   (u'ATF Form', 0.05329185765991512),\n",
       "   (u'federal guide', 0.04157313035365152),\n",
       "   (u'gun dealer', 0.041477567190739036),\n",
       "   (u'Gun show', 0.04124801982306676),\n",
       "   (u'firearm dealer', 0.03726263540202588),\n",
       "   (u'private party', 0.035045027399619885),\n",
       "   (u'background check', 0.03475529572361633),\n",
       "   (u'Private Party', 0.02737574580992616)],\n",
       "  'mean': 0.054461955992127699,\n",
       "  'median': 0.041362793506902897,\n",
       "  'title': 'Gun-Buying Laws 2016: How To Buy A Firearm Online And At Gun Shows Under New Obama Rules'},\n",
       " 7: {'keywords': [(u'tragic gun death', 0.12322328020750167),\n",
       "   (u'large domestic purchaser', 0.11038268914939522),\n",
       "   (u'federal agency', 0.10568681257072324),\n",
       "   (u'smart gun', 0.07023193364532174),\n",
       "   (u'executive action fact', 0.0699632103683204),\n",
       "   (u'gun safety', 0.06959028214435208),\n",
       "   (u'gun purchase', 0.06772988857862303),\n",
       "   (u'major executive', 0.06501694110774286),\n",
       "   (u'gun technology', 0.04915360304309485),\n",
       "   (u'White House \\u2019s', 0.04787923387285355)],\n",
       "  'mean': 0.077885787468792864,\n",
       "  'median': 0.069776746256336231,\n",
       "  'title': 'Obama orders federal agencies to research smart gun technology'},\n",
       " 11: {'keywords': [(u'background check', 0.6444130910504178),\n",
       "   (u'President Obama', 0.1992735218568111),\n",
       "   (u'move', 0.0396756159966438),\n",
       "   (u'gun', 0.03340563391066159),\n",
       "   (u'show', 0.03305197907348683),\n",
       "   (u'Obama', 0.028751586683408114),\n",
       "   (u'requirement', 0.021428571428571432)],\n",
       "  'mean': 0.14285714285714296,\n",
       "  'median': 0.033405633910661592,\n",
       "  'title': 'CHEROKEE NATION ENTERTAINMENT'},\n",
       " 12: {'keywords': [(u'radical islamic terrorism', 0.20121660811424544),\n",
       "   (u'Speaker Paul Ryan', 0.1431485808643202),\n",
       "   (u'Paul Ryan', 0.0904533280607313),\n",
       "   (u'executive action', 0.07402547096910257),\n",
       "   (u'gun sale', 0.07339994562039352),\n",
       "   (u'Obama', 0.06484494284219323),\n",
       "   (u'Wednesday', 0.0458015670437723),\n",
       "   (u'distraction', 0.04197100251125442),\n",
       "   (u'terrorism', 0.03714416575644228),\n",
       "   (u'gun', 0.031754694408003555)],\n",
       "  'mean': 0.080376030619045885,\n",
       "  'median': 0.069122444231293378,\n",
       "  'title': \"Paul Ryan: Obama's actions on guns 'a distraction'\"},\n",
       " 13: {'keywords': [(u'Obama \\u2019s executive', 0.477741916924246),\n",
       "   (u'Barack Obama \\u2019s', 0.04384439564718299),\n",
       "   (u'gun control', 0.030609736622900122),\n",
       "   (u'licensed dealer', 0.02886043944625115),\n",
       "   (u'private citizen', 0.020679075655545772),\n",
       "   (u'assault rifle', 0.01797962642980183),\n",
       "   (u'gun paraphernalia', 0.01749722590721323),\n",
       "   (u'specific threshold', 0.016683109108706053),\n",
       "   (u'commercial firearm seller', 0.015047029665124355),\n",
       "   (u'private seller', 0.013949516541451707)],\n",
       "  'mean': 0.068289207194842327,\n",
       "  'median': 0.019329351042673804,\n",
       "  'title': \"On 'Craigslist for guns', Obama's gun control actions have little impact\"},\n",
       " 14: {'keywords': [(u'Justice Department', 0.10574070188498315),\n",
       "   (u'federal law', 0.07166754132983906),\n",
       "   (u'Second Amendment', 0.06724566334026258),\n",
       "   (u'background check', 0.05423501599592126),\n",
       "   (u'\\u2019s new proposal', 0.04995564535257375),\n",
       "   (u'tough gun measure', 0.04707186849859617),\n",
       "   (u'Amendment right', 0.046123696085825755),\n",
       "   (u'White House', 0.03608497149959857),\n",
       "   (u'General Loretta', 0.03492724093687584),\n",
       "   (u'House Republican', 0.028370525151132427)],\n",
       "  'mean': 0.054142287007560866,\n",
       "  'median': 0.048513756925584961,\n",
       "  'title': 'Congressman Works to Defund Obama Gun Control Measures'},\n",
       " 15: {'keywords': [(u'Smart gun technology', 0.09923683235424512),\n",
       "   (u'fellow gang member', 0.08175302953269663),\n",
       "   (u'mental health funding\\u2013all', 0.07479825097652772),\n",
       "   (u'illegal gun shopping', 0.06198282864262788),\n",
       "   (u'exact same weapon', 0.05859850846082847),\n",
       "   (u'advanced country', 0.04901457398028801),\n",
       "   (u'immediate executive action', 0.045247156084395584),\n",
       "   (u'Washington Post', 0.030208441806741513),\n",
       "   (u'columnist Glenn', 0.019131701583848214),\n",
       "   (u'key point', 0.018969331484763544)],\n",
       "  'mean': 0.053894065490696266,\n",
       "  'median': 0.053806541220558238,\n",
       "  'title': 'The Facts Behind 4 of Obamas Claims About Guns'},\n",
       " 16: {'keywords': [(u'executive action', 0.39135664121468905),\n",
       "   (u'President Obama', 0.23729079765224698),\n",
       "   (u'plan', 0.13599329033368351),\n",
       "   (u'Obama', 0.12591002298251025),\n",
       "   (u'mandatory', 0.10944924781687046)],\n",
       "  'mean': 0.20000000000000009,\n",
       "  'median': 0.13599329033368351,\n",
       "  'title': 'Video: Every Time I Think About Those Kids It Gets Me Mad: Obama Tears Up as He Orders New Gun Control'},\n",
       " 17: {'keywords': [(u'North Carolina republican lawmaker',\n",
       "    0.08594945108192001),\n",
       "   (u'universal background check', 0.07948932451882597),\n",
       "   (u'democratic gun control policy', 0.061402328611567504),\n",
       "   (u'Obama \\u2019s action', 0.057882135870281376),\n",
       "   (u'North Carolina \\u2019s', 0.0508258581786083),\n",
       "   (u'Representatives task force', 0.04889426878519568),\n",
       "   (u'republican congressional colleague', 0.0456545902800717),\n",
       "   (u'Sandy Hook Elementary', 0.04294265050367584),\n",
       "   (u'Rep. David Price', 0.04152920309002189),\n",
       "   (u'Carolina \\u2019s delegate', 0.041400433419961594)],\n",
       "  'mean': 0.055597024434012973,\n",
       "  'median': 0.049860063481901987,\n",
       "  'title': 'Lawmaker wants to break NRAs hammerlock on Congress'},\n",
       " 18: {'keywords': [(u'Manhattan District Attorney Cyrus', 0.11441363865039081),\n",
       "   (u'criminal background check', 0.07861330249479988),\n",
       "   (u'New York state', 0.0577955557515197),\n",
       "   (u'private seller', 0.05685607228084272),\n",
       "   (u'gun dealer', 0.056773842633684915),\n",
       "   (u'New York', 0.041345764865487765),\n",
       "   (u'executive action', 0.037076510194199705),\n",
       "   (u'licensed dealer', 0.03372047977530224),\n",
       "   (u'gun right', 0.026449505961631987),\n",
       "   (u'Hatalsky', 0.02263308766492827)],\n",
       "  'mean': 0.052567776027278787,\n",
       "  'median': 0.049059803749586336,\n",
       "  'title': 'Obama Aims To Expand Background Checks To Online Gun Sales'},\n",
       " 20: {'keywords': [(u'mental health issue', 0.4379404303609749),\n",
       "   (u'smart gun technology', 0.09798778568918992),\n",
       "   (u'background check', 0.07976927290306644),\n",
       "   (u'mental health problem', 0.032889203954738905),\n",
       "   (u'Magna Lock', 0.025847145460739095),\n",
       "   (u'Homeland Security', 0.02209839953327919),\n",
       "   (u'gun owner', 0.020111618309644416),\n",
       "   (u'order DOD', 0.016256999024120533),\n",
       "   (u'mental health', 0.013820184994172022),\n",
       "   (u'Obama', 0.011603803443496902)],\n",
       "  'mean': 0.075832484367342232,\n",
       "  'median': 0.023972772497009142,\n",
       "  'title': 'Obama orders DOD, DOJ, and Homeland Security to research smart guns'},\n",
       " 21: {'keywords': [(u'New Castle County Police Chief Elmer',\n",
       "    0.13119349585102433),\n",
       "   (u'County Police Chief Elmer Setting', 0.07082079473783749),\n",
       "   (u'recent year available', 0.06405370501170957),\n",
       "   (u'sale background check', 0.05311364265843555),\n",
       "   (u'weak gun law', 0.04362098608686224),\n",
       "   (u'problem that officer', 0.04228750202169965),\n",
       "   (u'background check', 0.025118328731114054),\n",
       "   (u'Gun Violence', 0.022590661206262526),\n",
       "   (u'gun law', 0.021706132750464652),\n",
       "   (u'staff attorney', 0.020160026852577034)],\n",
       "  'mean': 0.049466527590798705,\n",
       "  'median': 0.042954244054280943,\n",
       "  'title': 'Obama plan might cut guns flowing into Delaware'},\n",
       " 24: {'keywords': [(u'criminal background check', 0.18975027037075196),\n",
       "   (u'official Monday night', 0.07820136063122765),\n",
       "   (u'National Shooting Sports Foundation', 0.07281712719664717),\n",
       "   (u'gun law', 0.038939685874585864),\n",
       "   (u'law that Obama', 0.037810727326018576),\n",
       "   (u'White House official', 0.03478315030935157),\n",
       "   (u'Obama', 0.029408972550071355),\n",
       "   (u'murky gun market', 0.023952438060245156),\n",
       "   (u'mass shooting', 0.019645618594889037),\n",
       "   (u'background check', 0.019446576271115176)],\n",
       "  'mean': 0.05447559271849034,\n",
       "  'median': 0.036296938817685073,\n",
       "  'title': \"Obama says expanding background checks doesn't threaten rights\"},\n",
       " 25: {'keywords': [(u'Transactional Records Access Clearinghouse',\n",
       "    0.0966454446459414),\n",
       "   (u'AP fact check', 0.09035796359320485),\n",
       "   (u'recent mass shooting', 0.06264666129556927),\n",
       "   (u'Sandy Hook massacre', 0.0579875589457271),\n",
       "   (u'Sandy Hook Elementary', 0.052733533466290776),\n",
       "   (u'Press review show', 0.05174478845785283),\n",
       "   (u'House East Room', 0.04890489880635923),\n",
       "   (u'White House East', 0.032748010188682904),\n",
       "   (u'York Times poll', 0.028755312529955123),\n",
       "   (u'Obama \\u2019s', 0.026009724890241264)],\n",
       "  'mean': 0.054853389681982466,\n",
       "  'median': 0.052239160962071804,\n",
       "  'title': 'Presidents Gun Control Speech Scores Victory over NRA on Optics & Message Front; Heres Why'},\n",
       " 26: {'keywords': [(u'White House announcement Tuesday', 0.1394983734169518),\n",
       "   (u'background check', 0.10693930313057223),\n",
       "   (u'worthwhile action that Obama', 0.09161822337612745),\n",
       "   (u'mental health care', 0.07189166063786631),\n",
       "   (u'Second Amendment right', 0.06687108612387284),\n",
       "   (u'limited power', 0.03880898359948017),\n",
       "   (u'Gun safety', 0.03767353968161703),\n",
       "   (u'FBI staff', 0.03192534536571611),\n",
       "   (u'internet sale', 0.03150278716084327),\n",
       "   (u'year', 0.0218826694269197)],\n",
       "  'mean': 0.063861197191996705,\n",
       "  'median': 0.052840034861676502,\n",
       "  'title': 'Gun safety steps long overdue'},\n",
       " 27: {'keywords': [(u'background check', 0.20774676658022134),\n",
       "   (u'gun dealer', 0.12226559407891766),\n",
       "   (u'White House', 0.08614119606564412),\n",
       "   (u'gun show', 0.06182628273702789),\n",
       "   (u'new federal', 0.05913410819014829),\n",
       "   (u'Hook Elementary School', 0.04894662202084103),\n",
       "   (u'presidential power', 0.03510815538420784),\n",
       "   (u'searing recent', 0.03486383724733063),\n",
       "   (u'hostage', 0.025172455719372835),\n",
       "   (u'Congress', 0.0237480866427065)],\n",
       "  'mean': 0.070495310466641814,\n",
       "  'median': 0.054040365105494662,\n",
       "  'title': \"Obama: 'Not a plot to take away everybody's guns'\"},\n",
       " 28: {'keywords': [(u'U.S. Sen. Dick Durbin', 0.20343848992376432),\n",
       "   (u'crime gun', 0.11947225121497364),\n",
       "   (u'gun death', 0.0554794404065887),\n",
       "   (u'Durbin', 0.040847300456134376),\n",
       "   (u'section', 0.03667249764393232),\n",
       "   (u'crime', 0.03532547296265497),\n",
       "   (u'percent', 0.03502090732419216),\n",
       "   (u'U.S. Sen. Mark', 0.03349860108587077),\n",
       "   (u'background check', 0.028636657320852056),\n",
       "   (u'city', 0.027936983568118225)],\n",
       "  'mean': 0.061632860190708162,\n",
       "  'median': 0.035998985303293651,\n",
       "  'title': \"Illinois' Members of Congress React to Obama's Executive Actions on Guns\"},\n",
       " 29: {'keywords': [(u'congressional action', 0.26522446027106816),\n",
       "   (u'button issue', 0.19165068852485856),\n",
       "   (u'Background Checks', 0.1857478798069689),\n",
       "   (u'gun', 0.08646138561252109),\n",
       "   (u'people', 0.07008940762329738),\n",
       "   (u'action', 0.05570263434066695),\n",
       "   (u'issue', 0.053327449186090344),\n",
       "   (u'move', 0.05008049411263816),\n",
       "   (u'Barack', 0.04171560052189053)],\n",
       "  'mean': 0.1111111111111111,\n",
       "  'median': 0.070089407623297378,\n",
       "  'title': 'Obama to Announce Expansion of Background Checks for Gun Purchases'},\n",
       " 30: {'keywords': [(u'President Obama', 0.47126058623025746),\n",
       "   (u'gun buying', 0.3894116549359902),\n",
       "   (u'requirement', 0.05062851533756933),\n",
       "   (u'licensing', 0.03307258818743147),\n",
       "   (u'gun', 0.03062665530875201),\n",
       "   (u'focus', 0.025)],\n",
       "  'mean': 0.16666666666666674,\n",
       "  'median': 0.041850551762500403,\n",
       "  'title': 'DR. CRAIG DAY CHIROPRACTIC'},\n",
       " 36: {'keywords': [(u'criminal background check', 0.1508150770440817),\n",
       "   (u'White House initiative', 0.10222722376443133),\n",
       "   (u'health care', 0.05914055851149959),\n",
       "   (u'White House', 0.052183980132913026),\n",
       "   (u'policy', 0.042199847291604274),\n",
       "   (u'background check', 0.04006290373172778),\n",
       "   (u'legal authority', 0.038847611061528856),\n",
       "   (u'gun', 0.03559253603986773),\n",
       "   (u'existing law', 0.033545405801438256),\n",
       "   (u'federal', 0.02665097375404308)],\n",
       "  'mean': 0.05812661171331357,\n",
       "  'median': 0.041131375511666027,\n",
       "  'title': \"Obama's steps on guns are just the basics of sensible policy\"},\n",
       " 42: {'keywords': [(u'Sheila Jackson Lee', 0.6910550968438894),\n",
       "   (u'mental health', 0.051324972628815406),\n",
       "   (u'background check', 0.043006847398552664),\n",
       "   (u'new gun', 0.024310343714385958),\n",
       "   (u'health treatment', 0.024098450193345868),\n",
       "   (u'additional ATF', 0.017575467798233164),\n",
       "   (u'Obama', 0.013417200380210485),\n",
       "   (u'congressional Republicans', 0.010384541607060956),\n",
       "   (u'White House', 0.010259569910792243),\n",
       "   (u'money', 0.00951987717782019)],\n",
       "  'mean': 0.089495236765310654,\n",
       "  'median': 0.020836958995789516,\n",
       "  'title': 'Sheila Jackson Lee seeks to bolster Obama gun initiative'},\n",
       " 46: {'keywords': [(u'live town hall Thursday', 0.20429518283358644),\n",
       "   (u'Obama gun town', 0.09754152919320833),\n",
       "   (u'gun right group', 0.09310088440019672),\n",
       "   (u'White House', 0.06576986226783432),\n",
       "   (u'influential gun right', 0.06240998565492975),\n",
       "   (u'NRA spokesman', 0.044877797255917104),\n",
       "   (u'gun regulation', 0.032520688784234836),\n",
       "   (u'public relation', 0.03194404319505123),\n",
       "   (u'Rifle Association', 0.029697455374110854),\n",
       "   (u'town hall', 0.02138395781768954)],\n",
       "  'mean': 0.06835413867767591,\n",
       "  'median': 0.053643891455423427,\n",
       "  'title': 'NRA declines to participate in Obama gun town hall'}}"
      ]
     },
     "execution_count": 286,
     "metadata": {},
     "output_type": "execute_result"
    }
   ],
   "source": [
    "article_keywords_dict"
   ]
  },
  {
   "cell_type": "markdown",
   "metadata": {
    "collapsed": true
   },
   "source": [
    "### find sentence with the keyword to get sentiment"
   ]
  },
  {
   "cell_type": "code",
   "execution_count": 332,
   "metadata": {
    "collapsed": true
   },
   "outputs": [],
   "source": [
    "from textblob import TextBlob"
   ]
  },
  {
   "cell_type": "code",
   "execution_count": 417,
   "metadata": {
    "collapsed": true
   },
   "outputs": [],
   "source": [
    "def return_key_sent_dict(doc, keywords):\n",
    "    keyword_sentence = {}\n",
    "    for kwd in keywords:\n",
    "        keyword_sentence[kwd] = []\n",
    "    for s in doc.sents:\n",
    "        sentence = s.orth_.lower()\n",
    "        for kwd in keywords:\n",
    "            if kwd in sentence:\n",
    "                temp_dict = {}\n",
    "                temp_dict[\"sentiment\"] = TextBlob(sentence).sentiment\n",
    "                temp_dict[\"sentence\"] = s.orth_\n",
    "                keyword_sentence[kwd].append(temp_dict)\n",
    "#                 keyword_sentence[kwd] = temp_dict\n",
    "    return keyword_sentence\n"
   ]
  },
  {
   "cell_type": "code",
   "execution_count": 418,
   "metadata": {
    "collapsed": false
   },
   "outputs": [],
   "source": [
    "article_keyword_sentence_dict = {}\n",
    "for idx in article_keywords_dict:\n",
    "    doc = parser(get_article_text(idx))\n",
    "    keywords = [x[0] for x in article_keywords_dict[idx]['keywords']]\n",
    "    article_keyword_sentence_dict[idx] = return_key_sent_dict(doc, keywords)"
   ]
  },
  {
   "cell_type": "markdown",
   "metadata": {},
   "source": [
    "### check"
   ]
  },
  {
   "cell_type": "code",
   "execution_count": null,
   "metadata": {
    "collapsed": true
   },
   "outputs": [],
   "source": [
    "num = "
   ]
  },
  {
   "cell_type": "code",
   "execution_count": 423,
   "metadata": {
    "collapsed": false
   },
   "outputs": [
    {
     "data": {
      "text/plain": [
       "{u'Obama': [],\n",
       " u'Paul Ryan': [],\n",
       " u'Speaker Paul Ryan': [],\n",
       " u'Wednesday': [],\n",
       " u'distraction': [{'sentence': u\"Paul Ryan: Obama's actions on guns 'a distraction'.\",\n",
       "   'sentiment': Sentiment(polarity=0.0, subjectivity=0.0)},\n",
       "  {'sentence': u'Read: Paul Ryan\\'s 2016 plans start with Obamacare repeal vote \\nRyan didn\\'t rule out suing the administration to block its executive actions to expand background checks for private guns sales, saying, \"we will look at all of our options but we will not take this distraction for more than it is -- a distraction.\"',\n",
       "   'sentiment': Sentiment(polarity=0.25, subjectivity=0.4375)}],\n",
       " u'executive action': [{'sentence': u'Washington (CNN) House Speaker Paul Ryan ripped President Barack Obama on Wednesday, saying he should be more focused on combating terrorism than issuing new executive actions to address gun sales.',\n",
       "   'sentiment': Sentiment(polarity=0.3181818181818182, subjectivity=0.4772727272727273)},\n",
       "  {'sentence': u'Read: Paul Ryan\\'s 2016 plans start with Obamacare repeal vote \\nRyan didn\\'t rule out suing the administration to block its executive actions to expand background checks for private guns sales, saying, \"we will look at all of our options but we will not take this distraction for more than it is -- a distraction.\"',\n",
       "   'sentiment': Sentiment(polarity=0.25, subjectivity=0.4375)}],\n",
       " u'gun': [{'sentence': u\"Paul Ryan: Obama's actions on guns 'a distraction'.\",\n",
       "   'sentiment': Sentiment(polarity=0.0, subjectivity=0.0)},\n",
       "  {'sentence': u'Washington (CNN) House Speaker Paul Ryan ripped President Barack Obama on Wednesday, saying he should be more focused on combating terrorism than issuing new executive actions to address gun sales.',\n",
       "   'sentiment': Sentiment(polarity=0.3181818181818182, subjectivity=0.4772727272727273)},\n",
       "  {'sentence': u'Read: Paul Ryan\\'s 2016 plans start with Obamacare repeal vote \\nRyan didn\\'t rule out suing the administration to block its executive actions to expand background checks for private guns sales, saying, \"we will look at all of our options but we will not take this distraction for more than it is -- a distraction.\"',\n",
       "   'sentiment': Sentiment(polarity=0.25, subjectivity=0.4375)},\n",
       "  {'sentence': u'He argued that the problem that the administration says it is addressing -- sales of guns to those who don\\'t get vetted by private dealers -- doesn\\'t exist, saying \"there isn\\'t a loophole.\"',\n",
       "   'sentiment': Sentiment(polarity=0.0, subjectivity=0.375)}],\n",
       " u'gun sale': [{'sentence': u'Washington (CNN) House Speaker Paul Ryan ripped President Barack Obama on Wednesday, saying he should be more focused on combating terrorism than issuing new executive actions to address gun sales.',\n",
       "   'sentiment': Sentiment(polarity=0.3181818181818182, subjectivity=0.4772727272727273)}],\n",
       " u'radical islamic terrorism': [{'sentence': u'\"I think it would be nice if he would actually focus on defeating ISIS, on calling radical Islamic terrorism what it is, instead of talking about how we can intimidate and frustrate the Second Amendment rights of law abiding citizens,\" Ryan said at a press conference on Capitol Hill on Wednesday.',\n",
       "   'sentiment': Sentiment(polarity=0.19999999999999998, subjectivity=0.3666666666666667)}],\n",
       " u'terrorism': [{'sentence': u'Washington (CNN) House Speaker Paul Ryan ripped President Barack Obama on Wednesday, saying he should be more focused on combating terrorism than issuing new executive actions to address gun sales.',\n",
       "   'sentiment': Sentiment(polarity=0.3181818181818182, subjectivity=0.4772727272727273)},\n",
       "  {'sentence': u'\"I think it would be nice if he would actually focus on defeating ISIS, on calling radical Islamic terrorism what it is, instead of talking about how we can intimidate and frustrate the Second Amendment rights of law abiding citizens,\" Ryan said at a press conference on Capitol Hill on Wednesday.',\n",
       "   'sentiment': Sentiment(polarity=0.19999999999999998, subjectivity=0.3666666666666667)}]}"
      ]
     },
     "execution_count": 423,
     "metadata": {},
     "output_type": "execute_result"
    }
   ],
   "source": [
    "article_keyword_sentence_dict[12]"
   ]
  },
  {
   "cell_type": "code",
   "execution_count": null,
   "metadata": {
    "collapsed": true
   },
   "outputs": [],
   "source": []
  },
  {
   "cell_type": "code",
   "execution_count": 391,
   "metadata": {
    "collapsed": false
   },
   "outputs": [
    {
     "data": {
      "text/plain": [
       "\"Paul Ryan: Obama's actions on guns 'a distraction'\""
      ]
     },
     "execution_count": 391,
     "metadata": {},
     "output_type": "execute_result"
    }
   ],
   "source": [
    "idx_to_title[12]"
   ]
  },
  {
   "cell_type": "code",
   "execution_count": 390,
   "metadata": {
    "collapsed": false
   },
   "outputs": [
    {
     "data": {
      "text/plain": [
       "array([5])"
      ]
     },
     "execution_count": 390,
     "metadata": {},
     "output_type": "execute_result"
    }
   ],
   "source": [
    "cluster_idx[12]"
   ]
  },
  {
   "cell_type": "code",
   "execution_count": 397,
   "metadata": {
    "collapsed": false
   },
   "outputs": [
    {
     "data": {
      "text/plain": [
       "'against obama (and pro gun)'"
      ]
     },
     "execution_count": 397,
     "metadata": {},
     "output_type": "execute_result"
    }
   ],
   "source": [
    "cluster_meanings[5]"
   ]
  },
  {
   "cell_type": "markdown",
   "metadata": {},
   "source": [
    "### cluster meanings?"
   ]
  },
  {
   "cell_type": "code",
   "execution_count": 395,
   "metadata": {
    "collapsed": false
   },
   "outputs": [],
   "source": [
    "cluster_meanings = {0: \"neutral\",\n",
    "1: \"guns as deadly weapons (anti guns)\",\n",
    "2: \"owning guns can be safe and legal (pro gun)\",\n",
    "3: \"lack of good gun laws + more background checks for gun owning (could be against or pro)\",\n",
    "4: \"Pro obama (in this case saying that his speech was good) ?\",\n",
    "5: \"against obama (and pro gun)\",\n",
    "6: \"how to keep your guns/ owning a gun is a RIGHT/ pro owning guns and second ammendment e.g. (Gun-Buying Laws 2016: How To Buy A Firearm Online And At Gun Shows Under New Obama Rules)\",\n",
    "7: \"Against obama’s speech or there needs to be more done. (anti gun)\",\n",
    "8: \"against republicans/against congress (anti gun)\"}"
   ]
  },
  {
   "cell_type": "code",
   "execution_count": 396,
   "metadata": {
    "collapsed": false
   },
   "outputs": [
    {
     "data": {
      "text/plain": [
       "'neutral'"
      ]
     },
     "execution_count": 396,
     "metadata": {},
     "output_type": "execute_result"
    }
   ],
   "source": [
    "cluster_meanings[0]"
   ]
  },
  {
   "cell_type": "markdown",
   "metadata": {},
   "source": [
    "### now run this on all articles"
   ]
  },
  {
   "cell_type": "code",
   "execution_count": null,
   "metadata": {
    "collapsed": true
   },
   "outputs": [],
   "source": []
  }
 ],
 "metadata": {
  "kernelspec": {
   "display_name": "Python 2",
   "language": "python",
   "name": "python2"
  },
  "language_info": {
   "codemirror_mode": {
    "name": "ipython",
    "version": 2
   },
   "file_extension": ".py",
   "mimetype": "text/x-python",
   "name": "python",
   "nbconvert_exporter": "python",
   "pygments_lexer": "ipython2",
   "version": "2.7.11"
  }
 },
 "nbformat": 4,
 "nbformat_minor": 0
}
